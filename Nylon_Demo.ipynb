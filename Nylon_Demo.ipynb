{
  "nbformat": 4,
  "nbformat_minor": 0,
  "metadata": {
    "colab": {
      "name": "Nylon Demo",
      "provenance": [],
      "include_colab_link": true
    },
    "kernelspec": {
      "name": "python3",
      "display_name": "Python 3"
    },
    "language_info": {
      "name": "python"
    }
  },
  "cells": [
    {
      "cell_type": "markdown",
      "metadata": {
        "id": "view-in-github",
        "colab_type": "text"
      },
      "source": [
        "<a href=\"https://colab.research.google.com/github/sweetpand/Deep_Learning_/blob/master/Nylon_Demo.ipynb\" target=\"_parent\"><img src=\"https://colab.research.google.com/assets/colab-badge.svg\" alt=\"Open In Colab\"/></a>"
      ]
    },
    {
      "cell_type": "code",
      "metadata": {
        "colab": {
          "base_uri": "https://localhost:8080/"
        },
        "id": "cieToE23y2gd",
        "outputId": "26c70e89-43f4-49cc-c400-19fa0a0ab45a"
      },
      "source": [
        "!pip install nylon-ai\n",
        "\n",
        "from nylon import Polymer"
      ],
      "execution_count": null,
      "outputs": [
        {
          "output_type": "stream",
          "text": [
            "Requirement already satisfied: nylon-ai in /usr/local/lib/python3.7/dist-packages (0.0.6)\n",
            "Requirement already satisfied: numpy in /usr/local/lib/python3.7/dist-packages (from nylon-ai) (1.19.5)\n",
            "Requirement already satisfied: bentoml in /usr/local/lib/python3.7/dist-packages (from nylon-ai) (0.13.0)\n",
            "Requirement already satisfied: setuptools in /usr/local/lib/python3.7/dist-packages (from nylon-ai) (57.0.0)\n",
            "Requirement already satisfied: prince in /usr/local/lib/python3.7/dist-packages (from nylon-ai) (0.7.1)\n",
            "Requirement already satisfied: nltk in /usr/local/lib/python3.7/dist-packages (from nylon-ai) (3.2.5)\n",
            "Requirement already satisfied: sklearn in /usr/local/lib/python3.7/dist-packages (from nylon-ai) (0.0)\n",
            "Requirement already satisfied: xgboost in /usr/local/lib/python3.7/dist-packages (from nylon-ai) (0.90)\n",
            "Requirement already satisfied: autocorrect in /usr/local/lib/python3.7/dist-packages (from nylon-ai) (2.5.0)\n",
            "Requirement already satisfied: pandas in /usr/local/lib/python3.7/dist-packages (from nylon-ai) (1.1.5)\n",
            "Requirement already satisfied: certifi in /usr/local/lib/python3.7/dist-packages (from bentoml->nylon-ai) (2021.5.30)\n",
            "Requirement already satisfied: alembic in /usr/local/lib/python3.7/dist-packages (from bentoml->nylon-ai) (1.6.5)\n",
            "Requirement already satisfied: prometheus-client in /usr/local/lib/python3.7/dist-packages (from bentoml->nylon-ai) (0.11.0)\n",
            "Requirement already satisfied: python-dateutil<3.0.0,>=2.7.3 in /usr/local/lib/python3.7/dist-packages (from bentoml->nylon-ai) (2.8.1)\n",
            "Requirement already satisfied: requests in /usr/local/lib/python3.7/dist-packages (from bentoml->nylon-ai) (2.23.0)\n",
            "Requirement already satisfied: click>=7.0 in /usr/local/lib/python3.7/dist-packages (from bentoml->nylon-ai) (7.1.2)\n",
            "Requirement already satisfied: tabulate in /usr/local/lib/python3.7/dist-packages (from bentoml->nylon-ai) (0.8.9)\n",
            "Requirement already satisfied: packaging in /usr/local/lib/python3.7/dist-packages (from bentoml->nylon-ai) (20.9)\n",
            "Requirement already satisfied: aiohttp in /usr/local/lib/python3.7/dist-packages (from bentoml->nylon-ai) (3.7.4.post0)\n",
            "Requirement already satisfied: ruamel.yaml>=0.15.0 in /usr/local/lib/python3.7/dist-packages (from bentoml->nylon-ai) (0.17.9)\n",
            "Requirement already satisfied: aiohttp-cors==0.7.0 in /usr/local/lib/python3.7/dist-packages (from bentoml->nylon-ai) (0.7.0)\n",
            "Requirement already satisfied: docker in /usr/local/lib/python3.7/dist-packages (from bentoml->nylon-ai) (5.0.0)\n",
            "Requirement already satisfied: configparser in /usr/local/lib/python3.7/dist-packages (from bentoml->nylon-ai) (5.0.2)\n",
            "Requirement already satisfied: boto3 in /usr/local/lib/python3.7/dist-packages (from bentoml->nylon-ai) (1.17.97)\n",
            "Requirement already satisfied: grpcio in /usr/local/lib/python3.7/dist-packages (from bentoml->nylon-ai) (1.34.1)\n",
            "Requirement already satisfied: psutil in /usr/local/lib/python3.7/dist-packages (from bentoml->nylon-ai) (5.4.8)\n",
            "Requirement already satisfied: urllib3<=1.25.11 in /usr/local/lib/python3.7/dist-packages (from bentoml->nylon-ai) (1.24.3)\n",
            "Requirement already satisfied: sqlalchemy<1.4.0,>=1.3.0 in /usr/local/lib/python3.7/dist-packages (from bentoml->nylon-ai) (1.3.24)\n",
            "Requirement already satisfied: deepmerge in /usr/local/lib/python3.7/dist-packages (from bentoml->nylon-ai) (0.3.0)\n",
            "Requirement already satisfied: gunicorn in /usr/local/lib/python3.7/dist-packages (from bentoml->nylon-ai) (20.1.0)\n",
            "Requirement already satisfied: humanfriendly in /usr/local/lib/python3.7/dist-packages (from bentoml->nylon-ai) (9.2)\n",
            "Requirement already satisfied: sqlalchemy-utils<0.36.8 in /usr/local/lib/python3.7/dist-packages (from bentoml->nylon-ai) (0.36.7)\n",
            "Requirement already satisfied: schema in /usr/local/lib/python3.7/dist-packages (from bentoml->nylon-ai) (0.7.4)\n",
            "Requirement already satisfied: dependency-injector<5.0,>=4.0 in /usr/local/lib/python3.7/dist-packages (from bentoml->nylon-ai) (4.33.0)\n",
            "Requirement already satisfied: protobuf>=3.8.0 in /usr/local/lib/python3.7/dist-packages (from bentoml->nylon-ai) (3.12.4)\n",
            "Requirement already satisfied: flask in /usr/local/lib/python3.7/dist-packages (from bentoml->nylon-ai) (1.1.4)\n",
            "Requirement already satisfied: chardet in /usr/local/lib/python3.7/dist-packages (from bentoml->nylon-ai) (3.0.4)\n",
            "Requirement already satisfied: cerberus in /usr/local/lib/python3.7/dist-packages (from bentoml->nylon-ai) (1.3.4)\n",
            "Requirement already satisfied: python-json-logger in /usr/local/lib/python3.7/dist-packages (from bentoml->nylon-ai) (2.0.1)\n",
            "Requirement already satisfied: scipy>=1.3.0 in /usr/local/lib/python3.7/dist-packages (from prince->nylon-ai) (1.4.1)\n",
            "Requirement already satisfied: matplotlib>=3.0.2 in /usr/local/lib/python3.7/dist-packages (from prince->nylon-ai) (3.2.2)\n",
            "Requirement already satisfied: scikit-learn>=0.22.1 in /usr/local/lib/python3.7/dist-packages (from prince->nylon-ai) (0.22.2.post1)\n",
            "Requirement already satisfied: six in /usr/local/lib/python3.7/dist-packages (from nltk->nylon-ai) (1.15.0)\n",
            "Requirement already satisfied: pytz>=2017.2 in /usr/local/lib/python3.7/dist-packages (from pandas->nylon-ai) (2018.9)\n",
            "Requirement already satisfied: python-editor>=0.3 in /usr/local/lib/python3.7/dist-packages (from alembic->bentoml->nylon-ai) (1.0.4)\n",
            "Requirement already satisfied: Mako in /usr/local/lib/python3.7/dist-packages (from alembic->bentoml->nylon-ai) (1.1.4)\n",
            "Requirement already satisfied: idna<3,>=2.5 in /usr/local/lib/python3.7/dist-packages (from requests->bentoml->nylon-ai) (2.10)\n",
            "Requirement already satisfied: pyparsing>=2.0.2 in /usr/local/lib/python3.7/dist-packages (from packaging->bentoml->nylon-ai) (2.4.7)\n",
            "Requirement already satisfied: multidict<7.0,>=4.5 in /usr/local/lib/python3.7/dist-packages (from aiohttp->bentoml->nylon-ai) (5.1.0)\n",
            "Requirement already satisfied: typing-extensions>=3.6.5 in /usr/local/lib/python3.7/dist-packages (from aiohttp->bentoml->nylon-ai) (3.7.4.3)\n",
            "Requirement already satisfied: async-timeout<4.0,>=3.0 in /usr/local/lib/python3.7/dist-packages (from aiohttp->bentoml->nylon-ai) (3.0.1)\n",
            "Requirement already satisfied: attrs>=17.3.0 in /usr/local/lib/python3.7/dist-packages (from aiohttp->bentoml->nylon-ai) (21.2.0)\n",
            "Requirement already satisfied: yarl<2.0,>=1.0 in /usr/local/lib/python3.7/dist-packages (from aiohttp->bentoml->nylon-ai) (1.6.3)\n",
            "Requirement already satisfied: ruamel.yaml.clib>=0.1.2; platform_python_implementation == \"CPython\" and python_version < \"3.10\" in /usr/local/lib/python3.7/dist-packages (from ruamel.yaml>=0.15.0->bentoml->nylon-ai) (0.2.2)\n",
            "Requirement already satisfied: websocket-client>=0.32.0 in /usr/local/lib/python3.7/dist-packages (from docker->bentoml->nylon-ai) (1.1.0)\n",
            "Requirement already satisfied: jmespath<1.0.0,>=0.7.1 in /usr/local/lib/python3.7/dist-packages (from boto3->bentoml->nylon-ai) (0.10.0)\n",
            "Requirement already satisfied: s3transfer<0.5.0,>=0.4.0 in /usr/local/lib/python3.7/dist-packages (from boto3->bentoml->nylon-ai) (0.4.2)\n",
            "Requirement already satisfied: botocore<1.21.0,>=1.20.97 in /usr/local/lib/python3.7/dist-packages (from boto3->bentoml->nylon-ai) (1.20.97)\n",
            "Requirement already satisfied: contextlib2>=0.5.5 in /usr/local/lib/python3.7/dist-packages (from schema->bentoml->nylon-ai) (0.5.5)\n",
            "Requirement already satisfied: itsdangerous<2.0,>=0.24 in /usr/local/lib/python3.7/dist-packages (from flask->bentoml->nylon-ai) (1.1.0)\n",
            "Requirement already satisfied: Jinja2<3.0,>=2.10.1 in /usr/local/lib/python3.7/dist-packages (from flask->bentoml->nylon-ai) (2.11.3)\n",
            "Requirement already satisfied: Werkzeug<2.0,>=0.15 in /usr/local/lib/python3.7/dist-packages (from flask->bentoml->nylon-ai) (1.0.1)\n",
            "Requirement already satisfied: cycler>=0.10 in /usr/local/lib/python3.7/dist-packages (from matplotlib>=3.0.2->prince->nylon-ai) (0.10.0)\n",
            "Requirement already satisfied: kiwisolver>=1.0.1 in /usr/local/lib/python3.7/dist-packages (from matplotlib>=3.0.2->prince->nylon-ai) (1.3.1)\n",
            "Requirement already satisfied: joblib>=0.11 in /usr/local/lib/python3.7/dist-packages (from scikit-learn>=0.22.1->prince->nylon-ai) (1.0.1)\n",
            "Requirement already satisfied: MarkupSafe>=0.9.2 in /usr/local/lib/python3.7/dist-packages (from Mako->alembic->bentoml->nylon-ai) (2.0.1)\n"
          ],
          "name": "stdout"
        }
      ]
    },
    {
      "cell_type": "markdown",
      "metadata": {
        "id": "TH_HJbSYzckI"
      },
      "source": [
        "Now, i'm going to load up the california housing dataset found here: www.kaggle.com/camnugent/california-housing-prices. If you're following along, you'll have to upload it yourself because collaboratory resets storage runtimes.\n",
        "\n",
        "Everytime you use a new dataset, you should instantiate a new Polymer object. "
      ]
    },
    {
      "cell_type": "code",
      "metadata": {
        "id": "iqNri4MCzWy4"
      },
      "source": [
        "a_polymer = Polymer('housing.csv')"
      ],
      "execution_count": null,
      "outputs": []
    },
    {
      "cell_type": "markdown",
      "metadata": {
        "id": "Mvm6R3pLz-fK"
      },
      "source": [
        "Once you've instantiated a Polymer object, you can run as many specifications files on it as you'd like. Here, we create and run a basic one. "
      ]
    },
    {
      "cell_type": "code",
      "metadata": {
        "id": "2-s49HLqz1XT"
      },
      "source": [
        "specifications = {\n",
        "    \"data\": {\n",
        "        \"target\": \"ocean_proximity\"\n",
        "    },\n",
        "    \"preprocessor\": {\n",
        "        \"fill\": \"ALL\",\n",
        "        \"label-encode\": \"ocean_proximity\"\n",
        "    },\n",
        "    \"modeling\": {\n",
        "        \"type\": \"neighbors\"\n",
        "    }\n",
        "}"
      ],
      "execution_count": null,
      "outputs": []
    },
    {
      "cell_type": "code",
      "metadata": {
        "colab": {
          "base_uri": "https://localhost:8080/"
        },
        "id": "GY6026BK0ptP",
        "outputId": "e8382236-e4a0-4912-d36b-a766104e3d2b"
      },
      "source": [
        "a_polymer.run(specifications)"
      ],
      "execution_count": null,
      "outputs": [
        {
          "output_type": "execute_result",
          "data": {
            "text/plain": [
              "<nylon.query.Polymer at 0x7f97d97be6d0>"
            ]
          },
          "metadata": {
            "tags": []
          },
          "execution_count": 6
        }
      ]
    },
    {
      "cell_type": "markdown",
      "metadata": {
        "id": "WlFKtwIQ07L6"
      },
      "source": [
        "We can look at our results under the results field. Since we didnt specify anything in the analysis section, we're defaulted to applying all the methods. "
      ]
    },
    {
      "cell_type": "code",
      "metadata": {
        "colab": {
          "base_uri": "https://localhost:8080/"
        },
        "id": "LFMDqQ5h01S8",
        "outputId": "59a70dd5-a921-4f4e-954a-21a3b2f0757c"
      },
      "source": [
        "a_polymer.results"
      ],
      "execution_count": null,
      "outputs": [
        {
          "output_type": "execute_result",
          "data": {
            "text/plain": [
              "{'acc-score': 0.5860044042084659,\n",
              " 'confusion_matrix': {'1': [1437, 363, 1, 299, 376],\n",
              "  '2': [179, 890, 0, 76, 90],\n",
              "  '3': [0, 1, 0, 0, 1],\n",
              "  '4': [81, 32, 0, 32, 34],\n",
              "  '5': [93, 30, 0, 36, 36]},\n",
              " 'cross-validation': [0.5914373088685015,\n",
              "  0.5806056898133986,\n",
              "  0.598959926583053,\n",
              "  0.5873355766289385,\n",
              "  0.5784643621902723],\n",
              " 'precision': 0.33288113493180516,\n",
              " 'recall': 0.3236717917054781}"
            ]
          },
          "metadata": {
            "tags": []
          },
          "execution_count": 7
        }
      ]
    },
    {
      "cell_type": "markdown",
      "metadata": {
        "id": "eJxet8Am1CH3"
      },
      "source": [
        "Now let's let Nylon handle all of our preprocessing and focus on the modeling. "
      ]
    },
    {
      "cell_type": "code",
      "metadata": {
        "colab": {
          "base_uri": "https://localhost:8080/"
        },
        "id": "LaWSHiao0q4O",
        "outputId": "d9b3ee5e-53e2-485b-f519-c3bab950bbbc"
      },
      "source": [
        "new_specifications = {\n",
        "    \"data\": {\n",
        "        \"target\": \"ocean_proximity\"\n",
        "    },\n",
        "    \"modeling\": {\n",
        "        \"type\": \"neighbors\"\n",
        "    }\n",
        "}\n",
        "\n",
        "a_polymer.run(new_specifications)"
      ],
      "execution_count": null,
      "outputs": [
        {
          "output_type": "execute_result",
          "data": {
            "text/plain": [
              "<nylon.query.Polymer at 0x7f97d97be6d0>"
            ]
          },
          "metadata": {
            "tags": []
          },
          "execution_count": 9
        }
      ]
    },
    {
      "cell_type": "markdown",
      "metadata": {
        "id": "t-p-vy6O1X1k"
      },
      "source": [
        "We can see information about all of our past runs under the history field."
      ]
    },
    {
      "cell_type": "code",
      "metadata": {
        "colab": {
          "base_uri": "https://localhost:8080/"
        },
        "id": "rohczP0y1LF8",
        "outputId": "b73f7fcf-8201-486f-bc3d-d174c7f4fc50"
      },
      "source": [
        "import pprint\n",
        "\n",
        "pprint.pprint(a_polymer.history)"
      ],
      "execution_count": null,
      "outputs": [
        {
          "output_type": "stream",
          "text": [
            "{'b66d589d-1467-42a9-a1aa-d00d755c3134': {'df': 'housing.csv',\n",
            "                                          'json': {'analysis': {'type': 'ALL'},\n",
            "                                                   'data': {'target': 'ocean_proximity'},\n",
            "                                                   'modeling': {'type': 'neighbors'}},\n",
            "                                          'model': KNeighborsClassifier(algorithm='auto', leaf_size=30, metric='minkowski',\n",
            "                     metric_params=None, n_jobs=None, n_neighbors=3, p=2,\n",
            "                     weights='uniform'),\n",
            "                                          'results': {'acc-score': 0.5860044042084659,\n",
            "                                                      'confusion_matrix': {'1': [1437,\n",
            "                                                                                 363,\n",
            "                                                                                 1,\n",
            "                                                                                 299,\n",
            "                                                                                 376],\n",
            "                                                                           '2': [179,\n",
            "                                                                                 890,\n",
            "                                                                                 0,\n",
            "                                                                                 76,\n",
            "                                                                                 90],\n",
            "                                                                           '3': [0,\n",
            "                                                                                 1,\n",
            "                                                                                 0,\n",
            "                                                                                 0,\n",
            "                                                                                 1],\n",
            "                                                                           '4': [81,\n",
            "                                                                                 32,\n",
            "                                                                                 0,\n",
            "                                                                                 32,\n",
            "                                                                                 34],\n",
            "                                                                           '5': [93,\n",
            "                                                                                 30,\n",
            "                                                                                 0,\n",
            "                                                                                 36,\n",
            "                                                                                 36]},\n",
            "                                                      'cross-validation': [0.5914373088685015,\n",
            "                                                                           0.5806056898133986,\n",
            "                                                                           0.598959926583053,\n",
            "                                                                           0.5873355766289385,\n",
            "                                                                           0.5784643621902723],\n",
            "                                                      'precision': 0.33288113493180516,\n",
            "                                                      'recall': 0.3236717917054781},\n",
            "                                          'y': {'test': 15341    4\n",
            "6377     1\n",
            "3419     0\n",
            "2318     1\n",
            "4088     0\n",
            "        ..\n",
            "14792    4\n",
            "8043     0\n",
            "19541    1\n",
            "7991     0\n",
            "13518    1\n",
            "Name: ocean_proximity, Length: 4087, dtype: int64,\n",
            "                                                'train': 9012     0\n",
            "15045    0\n",
            "18408    0\n",
            "13862    1\n",
            "18378    0\n",
            "        ..\n",
            "5978     1\n",
            "4525     0\n",
            "6268     0\n",
            "15433    0\n",
            "2073     1\n",
            "Name: ocean_proximity, Length: 16346, dtype: int64}}}\n"
          ],
          "name": "stdout"
        }
      ]
    },
    {
      "cell_type": "code",
      "metadata": {
        "id": "x94t3nZQ1ecu"
      },
      "source": [
        ""
      ],
      "execution_count": null,
      "outputs": []
    }
  ]
}