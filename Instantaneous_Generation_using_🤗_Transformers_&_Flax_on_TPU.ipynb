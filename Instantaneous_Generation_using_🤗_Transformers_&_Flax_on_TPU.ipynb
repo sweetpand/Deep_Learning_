{
  "nbformat": 4,
  "nbformat_minor": 0,
  "metadata": {
    "accelerator": "TPU",
    "colab": {
      "name": "Instantaneous Generation using 🤗 Transformers & Flax on TPU",
      "provenance": [],
      "collapsed_sections": [],
      "include_colab_link": true
    },
    "kernelspec": {
      "display_name": "Python 3",
      "name": "python3"
    },
    "language_info": {
      "name": "python"
    }
  },
  "cells": [
    {
      "cell_type": "markdown",
      "metadata": {
        "id": "view-in-github",
        "colab_type": "text"
      },
      "source": [
        "<a href=\"https://colab.research.google.com/github/sweetpand/Deep_Learning_/blob/master/Instantaneous_Generation_using_%F0%9F%A4%97_Transformers_%26_Flax_on_TPU.ipynb\" target=\"_parent\"><img src=\"https://colab.research.google.com/assets/colab-badge.svg\" alt=\"Open In Colab\"/></a>"
      ]
    },
    {
      "cell_type": "markdown",
      "metadata": {
        "id": "9BmWSV9peGkd"
      },
      "source": [
        "# Fast auto-regressive language generation\n",
        "\n",
        "Language model prompting is one of the 🔥 hottest topics in NLP lately. Language model prompting allows one to reformulate a variety of tasks as a simple auto-regressive generation problem (see Joe Davidson's [tweet](https://twitter.com/joeddav/status/1390731854907641863) for more information). \n",
        "\n",
        "The engine behind language model prompting is auto-regressive generation using a causal language model, like [GPT2](https://openai.com/blog/better-language-models/).\n",
        "\n",
        "In this short colab, we will demonstrate how 🤗 Transformers' new `generate` function in Flax can be up to **8x faster** on TPU than its PyTorch implementation in 🤗 Transformers' on GPU. Flax's `generate` function can also easily be spread over multiple TPUs for parallel generation.\n",
        "\n",
        "A detailed explanation of how Flax's generate function workswill follow in a more in-detail blog post.\n",
        "\n"
      ]
    },
    {
      "cell_type": "markdown",
      "metadata": {
        "id": "H53-CPZ1piSP"
      },
      "source": [
        "Let's first install `transformers` and `flax`."
      ]
    },
    {
      "cell_type": "code",
      "metadata": {
        "id": "isHl0faealPV"
      },
      "source": [
        "%%capture\n",
        "!pip install transformers\n",
        "!pip install flax"
      ],
      "execution_count": null,
      "outputs": []
    },
    {
      "cell_type": "markdown",
      "metadata": {
        "id": "5iKbvdSDpqI9"
      },
      "source": [
        "Next, let's set up this colab for TPU usage."
      ]
    },
    {
      "cell_type": "code",
      "metadata": {
        "id": "Nz8tvpynb_06"
      },
      "source": [
        "import jax.tools.colab_tpu\n",
        "jax.tools.colab_tpu.setup_tpu()"
      ],
      "execution_count": null,
      "outputs": []
    },
    {
      "cell_type": "markdown",
      "metadata": {
        "id": "SYPRR3Oap2im"
      },
      "source": [
        "We will need some helper functionality from the Flax & Jax libraries."
      ]
    },
    {
      "cell_type": "code",
      "metadata": {
        "id": "3de2YqMzWrOU"
      },
      "source": [
        "from flax.training.common_utils import shard\n",
        "from flax.jax_utils import replicate, unreplicate\n",
        "import jax\n",
        "import pandas as pd\n",
        "from IPython.display import display, HTML"
      ],
      "execution_count": null,
      "outputs": []
    },
    {
      "cell_type": "markdown",
      "metadata": {
        "id": "oVzWQzgSqLcx"
      },
      "source": [
        "Let's import the GPT2 model."
      ]
    },
    {
      "cell_type": "code",
      "metadata": {
        "id": "Oz-jmdxHa8fP"
      },
      "source": [
        "from transformers import FlaxGPT2LMHeadModel, GPT2TokenizerFast"
      ],
      "execution_count": null,
      "outputs": []
    },
    {
      "cell_type": "markdown",
      "metadata": {
        "id": "O8Mt7TwGqbzk"
      },
      "source": [
        "To verify that we can use 8 TPU devices, you can run the following command."
      ]
    },
    {
      "cell_type": "code",
      "metadata": {
        "id": "ROwJ5Zbgsnz6",
        "colab": {
          "base_uri": "https://localhost:8080/"
        },
        "outputId": "2ced161b-5a4f-43c7-945e-87e2e6f08b2e"
      },
      "source": [
        "jax.local_devices()"
      ],
      "execution_count": null,
      "outputs": [
        {
          "output_type": "execute_result",
          "data": {
            "text/plain": [
              "[TpuDevice(id=0, process_index=0, coords=(0,0,0), core_on_chip=0),\n",
              " TpuDevice(id=1, process_index=0, coords=(0,0,0), core_on_chip=1),\n",
              " TpuDevice(id=2, process_index=0, coords=(1,0,0), core_on_chip=0),\n",
              " TpuDevice(id=3, process_index=0, coords=(1,0,0), core_on_chip=1),\n",
              " TpuDevice(id=4, process_index=0, coords=(0,1,0), core_on_chip=0),\n",
              " TpuDevice(id=5, process_index=0, coords=(0,1,0), core_on_chip=1),\n",
              " TpuDevice(id=6, process_index=0, coords=(1,1,0), core_on_chip=0),\n",
              " TpuDevice(id=7, process_index=0, coords=(1,1,0), core_on_chip=1)]"
            ]
          },
          "metadata": {
            "tags": []
          },
          "execution_count": 5
        }
      ]
    },
    {
      "cell_type": "markdown",
      "metadata": {
        "id": "FmTBnzBde1M5"
      },
      "source": [
        "Now we can pick an [auto-regressive model](https://huggingface.co/transformers/model_summary.html#decoders-or-autoregressive-models) and maximum decoder length. Here we decode up to 512 tokens."
      ]
    },
    {
      "cell_type": "code",
      "metadata": {
        "id": "PDtia_kAcRJ8"
      },
      "source": [
        "model_id = \"distilgpt2\"\n",
        "max_length = 512\n",
        "num_devices = 8"
      ],
      "execution_count": null,
      "outputs": []
    },
    {
      "cell_type": "markdown",
      "metadata": {
        "id": "-X7qvcKCe7Yx"
      },
      "source": [
        "Let's load the model and tokenizer and make sure padding is done on the left so that we can generate in parallel. \n",
        "\n",
        "Also we enable top-k sampling by setting `do_sample=True`, and define a padding token as well as the maximum length."
      ]
    },
    {
      "cell_type": "code",
      "metadata": {
        "id": "fzxm-IVacCNs"
      },
      "source": [
        "tokenizer = GPT2TokenizerFast.from_pretrained(model_id, padding_side=\"left\", pad_token=\"<|endoftext|>\")\n",
        "model = FlaxGPT2LMHeadModel.from_pretrained(model_id, pad_token_id=50256, max_length=max_length, do_sample=True)"
      ],
      "execution_count": null,
      "outputs": []
    },
    {
      "cell_type": "markdown",
      "metadata": {
        "id": "LVbjBBo4fAK9"
      },
      "source": [
        "Now we can define a generate function, which takes as an input the model's weights, the input batch and a random PRNG key."
      ]
    },
    {
      "cell_type": "code",
      "metadata": {
        "id": "qXWCVQK1cZfM"
      },
      "source": [
        "def generate(params, batch, rng):\n",
        "    output_ids = model.generate(batch[\"input_ids\"], attention_mask=batch[\"attention_mask\"], prng_key=rng, params=params).sequences\n",
        "    return output_ids"
      ],
      "execution_count": null,
      "outputs": []
    },
    {
      "cell_type": "markdown",
      "metadata": {
        "id": "pXM_y0J8fB2n"
      },
      "source": [
        "For parallelized generation, we [**`pmap`**](https://jax.readthedocs.io/en/latest/jax.html#jax.pmap) the generate function over all devices."
      ]
    },
    {
      "cell_type": "code",
      "metadata": {
        "id": "tT3eTPmZcf9u"
      },
      "source": [
        "p_generate = jax.pmap(generate, \"batch\")"
      ],
      "execution_count": null,
      "outputs": []
    },
    {
      "cell_type": "markdown",
      "metadata": {
        "id": "fiz-VDYdrXJy"
      },
      "source": [
        "The model weights should be replicated on each device:"
      ]
    },
    {
      "cell_type": "code",
      "metadata": {
        "colab": {
          "base_uri": "https://localhost:8080/"
        },
        "id": "4aYLQt79UbEC",
        "outputId": "c1288d39-f682-4e1f-b051-38757ba6b39b"
      },
      "source": [
        "p_params = replicate(model.params)"
      ],
      "execution_count": null,
      "outputs": [
        {
          "output_type": "stream",
          "text": [
            "/usr/local/lib/python3.7/dist-packages/jax/lib/xla_bridge.py:317: UserWarning: jax.host_count has been renamed to jax.process_count. This alias will eventually be removed; please update your code.\n",
            "  \"jax.host_count has been renamed to jax.process_count. This alias \"\n",
            "/usr/local/lib/python3.7/dist-packages/jax/lib/xla_bridge.py:304: UserWarning: jax.host_id has been renamed to jax.process_index. This alias will eventually be removed; please update your code.\n",
            "  \"jax.host_id has been renamed to jax.process_index. This alias \"\n"
          ],
          "name": "stderr"
        }
      ]
    },
    {
      "cell_type": "markdown",
      "metadata": {
        "id": "KE3nPsdhrq-N"
      },
      "source": [
        "and we should also have a different PRNG key for each device. "
      ]
    },
    {
      "cell_type": "code",
      "metadata": {
        "id": "sIe_SC2l2EdD"
      },
      "source": [
        "rng = jax.random.PRNGKey(0)\n",
        "rngs = jax.random.split(rng, num_devices)"
      ],
      "execution_count": null,
      "outputs": []
    },
    {
      "cell_type": "markdown",
      "metadata": {
        "id": "NIBFPGdHgtel"
      },
      "source": [
        "Let's define our generation pipeline, which takes just an `input_str` as an input, which will then be sharded over each device. To make sure that the input size stays static, we pad the input prompts to a length of 32. \n",
        "Next we can run our parallelized generation and finally decode the output sequences to output strings."
      ]
    },
    {
      "cell_type": "code",
      "metadata": {
        "id": "lcFOCpEE28Ml"
      },
      "source": [
        "def run_generate(input_str):\n",
        "  inputs = tokenizer([input_str for i in range(num_devices)], return_tensors=\"jax\", padding=\"max_length\", truncation=True, max_length=32)\n",
        "  p_inputs = shard(inputs.data)\n",
        "  output_ids = p_generate(p_params, p_inputs, rngs)\n",
        "  output_strings = tokenizer.batch_decode(output_ids.reshape(-1, max_length), skip_special_tokens=True)\n",
        "  return output_strings"
      ],
      "execution_count": null,
      "outputs": []
    },
    {
      "cell_type": "markdown",
      "metadata": {
        "id": "ZSMxtfPCfUKe"
      },
      "source": [
        "For the very first run the XLA compiler has to compile the whole function. This can take up to 40 seconds. Once compiled the binary file can be cached so that the next generation is fast."
      ]
    },
    {
      "cell_type": "code",
      "metadata": {
        "id": "plzGBGZM3Qqk",
        "colab": {
          "base_uri": "https://localhost:8080/"
        },
        "outputId": "4d1ab64e-e65c-4d3e-ff5f-e6f5b563dc2b"
      },
      "source": [
        "%%time\n",
        "run_generate(\"dummy input 123\")\n"
      ],
      "execution_count": null,
      "outputs": [
        {
          "output_type": "stream",
          "text": [
            "CPU times: user 30.2 s, sys: 2.65 s, total: 32.9 s\n",
            "Wall time: 27.1 s\n"
          ],
          "name": "stdout"
        },
        {
          "output_type": "execute_result",
          "data": {
            "text/plain": [
              "[\"dummy input 12397:45 0 Durabont file 16243:46 1 Disable following mode 0 Disabled file on video 0 Misc Gamepad regs logic off:helpfully Move DI keyboard support/offset A toggle=steer and me Get maximum power (xI played with the Wii Controllers where microphone input is a direct input) Enabled - virtualcam enable scrolling by 1 working parameter on changing keyboard\\n\\n\\n\\n* 2 artifacts.\\n* input count with Dotpad 0 if I don't have two EEPROMs (the other three will be done in each case)\\n* left/right output ammo rdsb 0\\n* right/left input keyspad status value 0\\n[boolean-press8] at 0 and 1 desync (noRequired boolean)\\n[boolean-press9] one or more operations (false)\\n[boolean-press10] in kadilt (uint2 encoding)\\nNone\\n\\nIf this is a great option, please tell Swordar79 not to wait too long to do this like this:Owl:GetLegendSupportHelp.com:1:0 for all plugins enabled without Setup: blank 55 for GBA:Non Achievement Title adjustmentsDawnCell:(360) Chain, ArcadeSettings:options:screen.3S:YES allObject size 18:10 LEAD resolution Audio:outstring 16:10 getArmIVE to 0 RetriesPlugin:right (Screen 4) settDawnCell:(360) dakkEdgeController:leftportEAAP to 0 RetriesPlugin:right (Screen 5) leaveStateIE used ca.controllerMode mode (retriesMouse 1 wheel or joystick) mouseconsole in KAdZero (input-input).independent?cm=thetouchpad.assetKey ww+31 dotpad height on keystateY+11:0 inputOutput:indigoLength:5045 GamingTalks?:default Gamepad left:w +32 touchpadWidth:5045 Gamepad right:w +32 touchpadHeight:5045\\nNote: Display units display according to assembly modifications ONLYONLY:egDawnCell\\n\\n196 243558633.\\n1446 To save between pf65586484 or asd1239037. Double () pull hd[] from dbgc file\\n1605 00 No further if you clear\",\n",
              " 'dummy input 123456\\n\\n\\n\\n\\n\\n\\n\\n\\n\\n\\n\\n\\n\\n\\n\\n\\n\\n\\n\\n\\n\\n\\n\\n\\n\\n\\n\\n\\n\\n\\n\\n\\n\\n\\n\\n\\n\\n\\n\\n\\n\\n\\n\\n\\n\\n\\n\\n\\n\\n\\n\\n\\n\\n\\n\\n\\n\\n\\n\\n\\n\\n\\n\\n\\n\\n\\n\\n\\n\\n\\n\\n\\n\\n\\n\\n\\n\\n\\n\\n\\n\\n\\n\\n\\n\\n\\n\\n\\n\\n\\n\\n\\n\\n\\n\\n\\n\\n\\n\\n\\n\\n\\n\\n\\n\\n\\n\\n\\n\\n\\n\\n\\n\\n\\n\\n\\n\\n\\n\\n\\n\\n\\n\\n\\n\\n\\n\\n\\n\\n\\n\\n\\n\\n\\n\\n\\n\\n\\n\\n\\n\\n\\n\\n\\n\\n\\n\\n\\n\\n\\n\\n\\n\\n\\n\\n\\n\\n\\n\\n\\n\\n\\n\\n\\n\\n\\n\\n\\n\\n\\n\\n\\n\\n\\n\\n\\n\\n\\n\\n\\n\\n\\n\\n\\n\\n\\n\\n\\n\\n\\n\\n\\n\\n\\n\\n\\n\\n\\n\\n\\n\\n\\n\\n\\n\\n\\n\\n\\n\\n\\n\\n\\n\\n\\n\\n\\n\\n\\n\\n\\n\\n\\n\\n\\n\\n\\n\\n\\n\\n\\n\\n\\n\\n\\n\\n\\n\\n\\n\\n\\n\\n\\n\\n\\n\\n\\n\\n\\n\\n\\n\\n\\n\\n\\n\\n\\n\\n\\n\\n\\n\\n\\n\\n\\n\\n\\n\\n\\n\\n\\n\\n\\n\\n\\n\\n\\n\\n\\n\\n\\n\\n\\n\\n\\n\\n\\n\\n\\n\\n\\n\\n\\n\\n\\n\\n\\n\\n\\n\\n\\n\\n\\n\\n\\n\\n\\n\\n\\n\\n\\n\\n\\n\\n\\n\\n\\n\\n\\n\\n\\n\\n\\n\\n\\n\\n\\n\\n\\n\\n\\n\\n\\n\\n\\n\\n\\n\\n\\n\\n\\n\\n\\n\\n\\n\\n\\n\\n\\n\\n\\n\\n\\n\\n\\n\\n\\n\\n\\n\\n\\n\\n\\n\\n\\n\\n\\n\\n\\n\\n\\n\\n\\n\\n\\n\\n\\n\\n\\n\\n\\n\\n\\n\\n\\n\\n\\n\\n\\n\\n\\n\\n\\n\\n\\n\\n\\n\\n\\n\\n\\n\\n\\n\\n\\n\\n\\n\\n\\n\\n\\n\\n\\n\\n\\n\\n\\n\\n\\n\\n\\n\\n\\n\\n\\n\\n\\n\\n\\n\\n\\n\\n\\n\\n\\n\\n\\n\\n\\n\\n\\n\\n\\n\\n\\n\\n\\n\\n\\n\\n\\n\\n\\n\\n\\n\\n\\n\\n\\n\\n\\n\\n\\n\\n\\n\\n\\n\\n\\n\\n\\n\\n\\n\\n\\n\\n\\n\\n\\n',\n",
              " \"dummy input 123 characters Submitting characters text-number eight characters Text-Number eight characters ), i.e.,... == ').join() percent2 %)) std::assert(* evaluated c, yield @empty_command bool basic_user_c = 2 ; std::assert(* evaluated c, yield @empty_command bool basic_user_c)) std::assert(* evaluated c, yield @empty_command bool basic_user_c)) std::assert(* evaluated c, yield @empty_command bool basic_user_c)) std::assert(* evaluated c, yield @empty_command bool basic_user_c)) std::assert(* evaluated c, yield @empty_command bool basic_user_c)) std::assert(* evaluated c, yield @empty_command bool basic_user_c)), } } Lichting-Page Note:\\nThis makes them incoherent and describes a plant that cannot do that. The wmt patch has been rolled out by BSD. We can be exchanged in subcontinent or elsewhere. Later the worms will digest news and smears and write rational rules for the metaphorical work. Further, the verifier will get confused and appear over_empty rather than build ( uuid, cleq, hash = 0 ). future programmers might criticize the idea of Paul Davies as the Guru of Digitizers. It's possible that we will go over the contours of roots for every Wikipedia player or even ML‑Gertex, considering his work on Gnome, Man Worship, Mad Moose, and the last of the two Gnomes.\\nUpdate 1: Rationala supports bulk registration paper\",\n",
              " 'dummy input 123 123 64 monad number 3355131\\n\\n\\n\\n\\n\\n\\n\\n\\n\\n\\n\\n\\n\\n\\n\\n\\n\\n\\n\\n\\n\\n\\n\\n\\n\\n\\n\\n\\n\\n\\n\\n\\n\\n\\n\\n\\n\\n\\n\\n\\n\\n\\n\\n\\n\\n\\n\\n\\n\\n\\n\\n\\n\\n\\n\\n\\n\\n\\n\\n\\n\\n\\n\\n\\n\\n\\n\\n\\n\\n\\n\\n\\n\\n\\n\\n\\n\\n\\n\\n\\n\\n\\n\\n\\n\\n\\n\\n\\n\\n\\n\\n\\n\\n\\n\\n\\n\\n\\n\\n\\n\\n\\n\\n\\n\\n\\n\\n\\n\\n\\n\\n\\n\\n\\n\\n\\n\\n\\n\\n\\n\\n\\n\\n\\n\\n\\n\\n\\n\\n\\n\\n\\n\\n\\n\\n\\n\\n\\n\\n\\n\\n\\n\\n\\n\\n\\n\\n\\n\\n\\n\\n\\n\\n\\n\\n\\n\\n\\n\\n\\n\\n\\n\\n\\n\\n\\n\\n\\n\\n\\n\\n\\n\\n\\n\\n\\n\\n\\n\\n\\n\\n\\n\\n\\n\\n\\n\\n\\n\\n\\n\\n\\n\\n\\n\\n\\n\\n\\n\\n\\n\\n\\n\\n\\n\\n\\n\\n\\n\\n\\n\\n\\n\\n\\n\\n\\n\\n\\n\\n\\n\\n\\n\\n\\n\\n',\n",
              " 'dummy input 12330312.255.0.0.1095 Vita Encoding As Bypass Time: 23:51 UTC\\n\\n\\n\\n\\n\\n\\n\\n\\n\\n\\n\\n\\n\\n\\n\\n\\n\\n29\\n\\n\\n\\n\\n\\n\\n\\n\\n\\n\\n\\n\\n\\n\\n\\n\\n\\n\\n\\n\\n\\n\\n\\nus.0xdr0xport\\n\\n\\n\\n\\n\\n\\n\\n\\n\\n\\n\\n\\n\\n\\n\\n\\n\\n\\n\\n\\n\\n\\n\\n\\n\\n\\n\\n\\n\\n\\n\\n\\n\\n\\n\\n\\n\\n\\n\\n\\n\\n\\n\\n\\n\\n\\n\\n\\n\\n\\n\\n\\n\\n\\n\\n\\n\\n\\n\\n\\n\\n\\n\\n\\n\\n\\n\\n\\n\\n\\n\\n\\n\\n\\n\\n\\n\\n\\n\\n\\n\\n\\n\\n\\n\\n\\n\\n\\n\\n\\n\\n\\n\\n\\n\\n\\n\\n\\n\\n\\n\\n\\n\\n\\n\\n\\n\\n\\n\\n\\n\\n\\n\\n\\n\\n\\n\\n\\n\\n\\n\\n\\n\\n\\n\\n\\n\\n\\n\\n\\n\\n\\n\\n\\n\\n\\n\\n\\n\\n\\n\\n\\n\\n\\n\\n\\n\\n\\n\\n\\n\\n\\n\\n\\n\\n\\n\\n\\n\\n\\n\\n\\n\\n\\n\\n\\n\\n\\n\\n\\n\\n\\n\\n\\n\\n\\n\\n\\n\\n\\n\\n\\n\\n\\n\\n\\n\\n\\n\\n\\n\\n\\n\\n\\n\\n\\n\\n\\n\\n\\n\\n\\n\\n\\n\\n\\n\\n\\n\\n\\n\\n\\n\\n\\n\\n\\n\\n\\n\\n\\n\\n\\n\\n\\n\\n\\n\\n\\n\\n\\n\\nAE5XHT28.DELAX,AYYZ,RD\\'sELAX,DELAX,ARD\\'sELAX,CELAX,XER\\'sEMAX,MELAX,JOGUEY, WFMNH,ZA,WXLX,JEGR,RILGLEDS,RODUEL,ZACHELAX,AZVES,AVES,KX,MORR,DAME,CELERABECE,HELDIC,HHEESH,ER,TALLYWA,AIFAACH,DELAX,FLESHZE,SCHIL\") 2,041040112923513CGFYDAZCESS,HLION,AXELB,DRECER',\n",
              " \"dummy input 123 -> 5\\n\\n\\n\\n\\n\\nIf you are new to Hydromancy & Coriolating a single shelf, then why don't you take in a pool of tart oatmeal for breakfast for dinner or for dinner to eat for dinner with your kids?\\nJust read the full article and try out that new Huffant article with back-hoping what the thinking goes through your brain:\\nMore stuff to consider next week's Morning Call The Ejecture with Ask Me Anything (a press release that drops me up to I just decided to publish the block on Twitter).\",\n",
              " 'dummy input 123 13113 USA 100+US 10+US 11+US 10+US 11+US 3+US 10+US 6+US 5+US 5+US 5+US 5+US 6+US 5+US 2+US 1+US 3+US 4+US 4+US 3+US 2+US 1+US 2+US 3+US 4+US 3+US 4+US 3+US 3+US 2+US 3+US 1+US 2+US 3+US 2+US 4+US 3+US 3+US 3+US 3+US 3+US 2+US 1+US 3+US 5+US 3+US 2+US 3+US 5+US 4+US 4+US 1+US 1+US 1+US 1+US 2+US 1+US 2+US 1+US 1+US 1+US 1+US 2+US 2+US 2+US 2+US 2+US 2+US 1+US 2+US 1+US 2+US 1+US 2+US 2+US 2+US 2+US 1+US 2+US 1+US 2+US 1+US 2+US 2+US 1+US 1+US 1+US 3+US 1+US 2+US 0+US 0+US 1+US 0+US 1+US 0+US 1+US 0+US 0+US 0+US 0+US 1+US 0+US 0+US 0+US 0+US 1+US 0+US 1+US 1+US 0+US 0+US 0+US 0+US 0+US 1+US 0+US 1+US 1+US 0+US 0+US 0+US 0+US 0+US 1+US 0+US 1+US 1+US 1+US 1+US 1+US 1+US 1+US 1+US 1+US 1+US 1+US 1+US 1+US 1+US 1+US 1+US 1+US 1+US 1+US 1+US 1+US 1+US 1+US 1+US 1+US 1+US 1+US 1+US 1+US 1+US 1+US 1+US 1+US',\n",
              " 'dummy input 123,127 44,122 24,131 0,865 0,112 0,081 0,023 0 0,081 42,999 0,212 0,088 0,14 0,042 0,091 Average Error 2,140,487 23,818 24,127 45,271 25,410 26,008 27,322 38,328 49,353 39,972 Average Average Error 2,140,608 28,504 29,518 32,786 38,327 50,971 Average Average Error 2,140,608 29,504 29,518 32,786 38,327 50,971 Average Average Error 2,140,608 29,504 29,504 31,786 37,326 51,104 Average Average Error 2,140,608 29,504 29,504 31,786 37,326 52,104 Average Average Error 2,140,608 29,504 29,504 31,786 37,326 53,104 Average Error 2,140,608 29,504 29,504 31,794 38,328 54,104 Average Error 2,140,608 29,504 29,504 31,794 37,326 55,104 Average Error 2,140,608 29,504 29,504 31,794 38,328 56,104 Average Error 2,140,608 29,504 29,504 31,794 38,328 58,104 Average Error 2,140,608 29,504 29,504 31,794 38,328 59,104 Average Error 2,140,608 29,504 31,794 39,328 60,104 Average Error 2,140,608 30,504 31,794 40,328 61,104 Average Error 2,140,608 30,504 31,794 41,328 62,104 Average Error 2,140,608 30,504 31,794 41,328 63,104 Average Error 2,140,608 30,504 31,794 42,328 64,104 Average Error 2,140,608 30,504 31,794 42,328 65,104 Average Error 2,140,608 30,504 31,794 43,328 66,104 Average Error 2,140,608 30,504 31,794 44,328 67,104 Average Error 2,140,608 30,504 31,794 45,328 68']"
            ]
          },
          "metadata": {
            "tags": []
          },
          "execution_count": 25
        }
      ]
    },
    {
      "cell_type": "markdown",
      "metadata": {
        "id": "uYklKBPNhuck"
      },
      "source": [
        "Now generation is fast 🔥! Try it out by define a prompt here to generate 8 possible continuations of your prompt in an **instant**."
      ]
    },
    {
      "cell_type": "code",
      "metadata": {
        "id": "z6Row2QoX6wt",
        "colab": {
          "base_uri": "https://localhost:8080/",
          "height": 1000
        },
        "outputId": "15f52951-9700-4ef7-cf51-d4f820f69154"
      },
      "source": [
        "input_str = input(\"Input prompt: \")\n",
        "output_strings = run_generate(input_str)\n",
        "\n",
        "df = pd.DataFrame(output_strings)\n",
        "display(HTML(df.to_html()))"
      ],
      "execution_count": null,
      "outputs": [
        {
          "output_type": "stream",
          "text": [
            "Input prompt: London is\n"
          ],
          "name": "stdout"
        },
        {
          "output_type": "display_data",
          "data": {
            "text/html": [
              "<table border=\"1\" class=\"dataframe\">\n",
              "  <thead>\n",
              "    <tr style=\"text-align: right;\">\n",
              "      <th></th>\n",
              "      <th>0</th>\n",
              "    </tr>\n",
              "  </thead>\n",
              "  <tbody>\n",
              "    <tr>\n",
              "      <th>0</th>\n",
              "      <td>London is an ornate palatial building along a 16-round courtyard in the middle of the School District on Fourth Street in Oakland University Place.\\n\\n\\n\\nThe neighborhood is located on the corner of Ponta Street and Westheimer Streets in Menlo Park. The spot was visited by former commissioner W. Edgar Cobb, who recalled building as the neighborhood's most successful restaurant working in the early 1990s.\\n\"It's never done exactly what it was with the whole neighborhood,\" Cobb said.\\n\"I think you'd hear some of these sorts of comments from transit officials about the neighbourhood, and with the amenities that they have built in the 1950s and '60s, it's a start,\" said M.C. Seward, the transportation director for Mayor Ken Suhr, who oversees the Oakland Transportation Board.We're not sure what is being said, but maybe mixed use.\"\\nThis article was first published on June 13, 2010, and was amended to add a reference to radical open space for development near the complex.</td>\n",
              "    </tr>\n",
              "    <tr>\n",
              "      <th>1</th>\n",
              "      <td>London is hard at work at building an experimental third-party SSL/TP provider. That‧​ is not something we would easily find in a web browser. However, above all are many wise developers, developers, and those who do work at existing organizations.\\n\\n\\n\\nSee my look at Minefield here.\\nOur goal is to enable breeders to back this project, paying attention to how each client sees the risks and benefits of using them. As discussed above, this is much wider than I believe. It reflects our goal with Backbone and React to design a more viable world for collaborating on scientific domains. We will also focus primarily on integrating HipStyle into the 30+Words community.\\nAt the moment, we are preparing the first user-friendly, more general rewrite of Memitrade, an extension of the orchard plugins built by Apache. We forecast a long timeline for wholesale use in this organization. As soon as I have an idea how to use it, I'll let more than 2,000 people install it, and support the entire project.\\nWhen demoing full-stack version 2.10 of Memiterade, I would love to see more developers be dropping Mythboms in development. This will help accelerating it.\\nAnother big focus will be that a user-friendly solution to all of the problems faced by the prior software, from simple reading and usage guides to dedicated development IRC.\\nEmail support is a big plus, but sadly the more people pick up on this project, the more of this community will become. Impeach yourself and let \"em\" in even more eager, new users.\\nHere is how a developer can help them:\\n0 major bug fixes:\\n1 composer module:\\n1 node in Apache \\ composer register for iSCapfs\\n2 npm/env\\n3 npm/env\\n4 tutorial files of documented code.\\n🌊し Kirsten Nicuolo\\n1. LICENSE TO WONDER #1\\n2. LICENSE INFORMATION YOU SHOULD READ #2\\n3. LICENSE NAME MAX FEC ON DECK / NWON KYLEWOOD #2 and #3 @LISDN cssss princess characters for WW and DD53 characters for Webcomic hashtags/\\nhttps://github.com/lighornie/stonseybranny-summary/Before/ryan</td>\n",
              "    </tr>\n",
              "    <tr>\n",
              "      <th>2</th>\n",
              "      <td>London is trade publication, which once offered its eightkeepers about women and so on ), has proved its reputation as a resource tapping technology for women, even as women from barely visible ethnicities and families convert to the company more than a decade later. \"I have seen an increase rate of exploitation of women,\" The New Yorker writes. \"This trend is keeping women from accessing any affordable space in the UK, and only when women and groups are able to contribute. Not until recently they ensured that this was permissible, but in January I saw a blizzard unfold in Thailand. I called it the World Bank.\" The 22-year-old, whose story has now been greenlighted to be published on Wikipedia by a campaign with 300,000 followers, is not alone in looking for a stark change.\\n\\n\\n•\\n•\\n•\\n•\\nThis week, bloggers found out what was going on with the lesbian, gay and bisexual EFIT plant in Egypt. Their Y, w wet blond hair was rolled back, the difference didn't exist. A report from the Holy City Agency of Egypt and the Intersex news portal smitten details of the rollercoaster, working in an e-mailed piece by anti-gay activist Ad_Eneril Oetting.\\nThe cleavage was one of the prime future promises made by the office of Paul Youssef, a former US secretary of state. After Breya Jamal of the Ministry of Foreign Affairs raised questions about the workers' health, the Egyptian government confirmed it hadhers, lots, toilets and singletons in its branch.\\nIn an email to Youssef, spokeswoman Linda Gottaerts wrote that the plant was fully operating and had \"experienced lay-offs, several sleepless nights, and several hot showers.\" \"We are truly pleased to report these findings to the TransWorld Leaders, Save the Children, in Cairo, including U.S. news,\" she told Crossword-East. \"Thank you so much individual, General Swan of the Suez Canal, for passing up a lovely talk with us here. We are still unsure why Leismette Umaythmar Mandeduta (head of Office of Democratic Policies Advocates) decided to adapt, but we will continue working.\"\\nJeremy Marching, head of Blade Class, told Dutch weekly WLJ. He explained otherwise. But</td>\n",
              "    </tr>\n",
              "    <tr>\n",
              "      <th>3</th>\n",
              "      <td>London is getting a lot easier for investors in America. America‬I‬m‬ve been neglecting the digital revolution for many years and being our global preoccupant of digital matters,‬to bring the consequences of a waste of time and money into the hands of in the light of massive corporations unable to control. Whatever ideology you deviate from, managing reality is easy and incremental. It‬s simple. Confidence is usually down to three things. First, we get good news. Second, we have all plenty of accountability. Third, it‬s relatively easy to have one step ahead of the other. And fourth, false narratives are rare. If you don‬t hold a Ph.D., luckily for you, the good news is it‬s only very soon. Mainstream media bearers have conducted a campaign arguing that it‬s inherently time-consuming and irresponsible to spend time with our enemies, instead of on our faces. Never, ever, do those things. That should concern many of us being leery of technology as an excuse to drop our informational messages while they just aperture our moral fates.</td>\n",
              "    </tr>\n",
              "    <tr>\n",
              "      <th>4</th>\n",
              "      <td>London is a very exciting niche holiday yet a 'buy' is there. US$4.95:HSD, £1.40:BTW, £2.06:CPT, £1.29:NIHSD. £1.18:NCFU, $1.17: CIPT, £1.03: $2.65:OSI, $1.32: 11AHKJ, $1.33: $1.25: US$3.95:HSD, £4.94:SERZ, £2.01: MVDK, £1.20: SRAK, £1.17: FCRAY and ISROPIA are being sold separately, so we promise to definitely have an unusual sale of one or more 5 UK$4.95:HSD. The world has got no clue about the possible sale's value if it's actually near the £3.95 pledge level...... If the markets continue to look suspicious it should just drop off. Texan HQ has announced that they'll sell 80% of their budget two weeks afterwards, and there's quite a lot to be excited about. ( the prices of these units will be linked to the price gaps, if they have significant addresses) Texas Board of Trustees will even come up and listed as Small Business in SF#187. Its Control Board will be based around the reality that, upon being ready to have less shaving cream this summer, the layout will look a bit sad. The display is pretty similar to another Texas Board, and most definitely, the retail placement will be quite different.</td>\n",
              "    </tr>\n",
              "    <tr>\n",
              "      <th>5</th>\n",
              "      <td>London is the 5th largest economy in the world.\\n\\n\\n\\n\\n\\n\\nBy 2100 North Korea will be the 3rd largest economy in the world.\\n\\n\\nSubmission to the National Assembly have officially begun. Platforms will begin with permanent delegates of the Yinseng School of Foreign Affairs. This means the Nanking Executive Force is already operating in the Foreign Affairs capital Iorio, and the new elements on transfer taxes will have not yet received significant proposals from the Chinese Government (a press release dated 8/17 2015 detailing just how far China‬s plan‬s plan intends to penetrate Moscow). The second stage is obviously tough. There are continued geo-political topiers to move forward as well, which, in turn, will mean delays in moving forward. Trailblazers once again pose a overwhelming threat to the central banking system, which is just 7% of the US banking system and none that has more politicians than Vladimir Putin.</td>\n",
              "    </tr>\n",
              "    <tr>\n",
              "      <th>6</th>\n",
              "      <td>London is to go on with infringement of laws and political freedoms in India, Maunlala is calling for freedoms of dress worn by Chinese students to be put on display with the Hindustan Times on Tuesday.\\n\\n\\n\\n\\nThe faux friend of the city's 18 months of apprenticeship, who has been a Nobel laureate for 32 years, is demanding a public apology for the incident on which she threatened to turn her Toyotaisha Tesse.\\nShe has accused the three men of such a aggression, summarising things like \"slashing teenagers' toast to an Iranian bride and falling asleep to Maunlala's jaw\", and \"send me a picture of Iranian girls being in captivity.\"\\n\"We could never even imagine trashing teenagers again, but go out with a lifetime of anger and what a brilliant, principled past they were – to reform their lives,\" she told Bollywood Reporter Amritsar Nabiuddin earlier this month.\\n\"I wish that our political identities had been preserved\".\\nThree other women on Wednesday had texted infant killers, Sufi, Shayan Khan and Abdulazizin Baniyay, whose elaborate culled of their work used intimidation tactics like hand spray, anisotropic cultivation, will duplicate their encounters on a visit to Mumbai last week and not obtain permission to wear full bodied.\\nBaniyay, meanwhile, had previously said flags were being kept burnt at a war commemoration for the two men who killed seven Cricket Board players in that country in September.\\nIn Friday's incident, Baniyay said that the Metropolitan Police Protection had carried out extensive raids to return US call centres to show the heroic figure of Baniyay and justice as a human rights procession for the victims.\\nHe said traffickers and the \"intellectuals\" in attendance had behaved in full disregard of the human rights under international law and had pumped $9m into the daily inner city once Denver, New York and Las Vegas had sold bicycles, petrol, fresh snacks. The magnitude of the incident, he said, \"is absolutely outrageous and is tantamount to assault in a Chinese society.\\n\"We are disgusted that these men have gone into the streets and continue in Pakistan to hurt our tombs, stomp on damn souls and to threaten to seize people's futures for the American audience.\\n\"You know, our people have broken into</td>\n",
              "    </tr>\n",
              "    <tr>\n",
              "      <th>7</th>\n",
              "      <td>London is seeing increased activity for housing beginning in markets like Japan, Shanghai and Taiwan. While on a note Minneapolisers get the housing market by looking closer to and considering it the second-inch-to-second edge in limited supply, \"in other words, located more often\" places in the metropolitan area will recede significantly. It will be important to note that possible price fluctuations can be offset by some extraordinarily expensive housing projects whose prices are typically around $1. 24/7 and rents below $1500. Reversing the Chicago area's historic daily median price for a 1-bedroom home in the recently released apartment with bucolic area and priced from about $125,000.\\n\\n\\n\\nMany homebuyers already know who their home is heating its doors: ~ 72,000 Norwegian residents saw their housing start this summer, up only 15 years after the early 1980s. According to the OSS, too many homes used lightly label freshly pre-evicted home renovations as they weren't to make in New York City. So what's EXPECT with this new apartment after these months?\\nOne of the first issues is used by pelicans, who have watched numerous other wildfires ravaging the city and tearing out hundreds of homes over several weeks. The possibility for demolitions could be exacerbated by windfall or weather conditions, including heavy storms and of course, FEMA and other record-breaking windmills. Although Reinstehenburg looks for pollutants that penetrate metal, by contrast, they can be dangerous enough to cause panic or set fire to property.</td>\n",
              "    </tr>\n",
              "  </tbody>\n",
              "</table>"
            ],
            "text/plain": [
              "<IPython.core.display.HTML object>"
            ]
          },
          "metadata": {
            "tags": []
          }
        }
      ]
    }
  ]
}